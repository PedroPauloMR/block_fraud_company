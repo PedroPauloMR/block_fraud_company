{
 "cells": [
  {
   "cell_type": "code",
   "execution_count": 2,
   "metadata": {},
   "outputs": [],
   "source": [
    "import os\n",
    "os.environ['JAVA_HOME'] = 'C:\\Program Files\\Java\\jdk-11.0.13'\n",
    "os.environ['SPARK_HOME'] = 'C:\\spark\\spark-3.4.1-bin-hadoop3'"
   ]
  },
  {
   "cell_type": "code",
   "execution_count": 3,
   "metadata": {},
   "outputs": [],
   "source": [
    "from pyspark.sql import SparkSession\n",
    "import pyspark.sql.functions as f"
   ]
  },
  {
   "cell_type": "code",
   "execution_count": 4,
   "metadata": {},
   "outputs": [],
   "source": [
    "path = r'C:\\repos\\portfolio_projetos\\block_fraud_company\\data\\raw'\n",
    "file = r'\\PS_20174392719_1491204439457_log.csv'"
   ]
  },
  {
   "cell_type": "code",
   "execution_count": 5,
   "metadata": {},
   "outputs": [],
   "source": [
    "spark = SparkSession.builder.getOrCreate()"
   ]
  },
  {
   "cell_type": "code",
   "execution_count": 6,
   "metadata": {},
   "outputs": [],
   "source": [
    "df = spark.read.csv(path + file, header = True, inferSchema=True)"
   ]
  },
  {
   "cell_type": "code",
   "execution_count": 7,
   "metadata": {},
   "outputs": [
    {
     "name": "stdout",
     "output_type": "stream",
     "text": [
      "root\n",
      " |-- step: integer (nullable = true)\n",
      " |-- type: string (nullable = true)\n",
      " |-- amount: double (nullable = true)\n",
      " |-- nameOrig: string (nullable = true)\n",
      " |-- oldbalanceOrg: double (nullable = true)\n",
      " |-- newbalanceOrig: double (nullable = true)\n",
      " |-- nameDest: string (nullable = true)\n",
      " |-- oldbalanceDest: double (nullable = true)\n",
      " |-- newbalanceDest: double (nullable = true)\n",
      " |-- isFraud: integer (nullable = true)\n",
      " |-- isFlaggedFraud: integer (nullable = true)\n",
      "\n"
     ]
    }
   ],
   "source": [
    "df.printSchema()"
   ]
  },
  {
   "cell_type": "code",
   "execution_count": 8,
   "metadata": {},
   "outputs": [
    {
     "data": {
      "text/plain": [
       "6362620"
      ]
     },
     "execution_count": 8,
     "metadata": {},
     "output_type": "execute_result"
    }
   ],
   "source": [
    "df.count()"
   ]
  },
  {
   "cell_type": "code",
   "execution_count": 9,
   "metadata": {},
   "outputs": [
    {
     "name": "stdout",
     "output_type": "stream",
     "text": [
      "+----+--------+--------+-----------+-------------+--------------+-----------+--------------+--------------+-------+--------------+\n",
      "|step|    type|  amount|   nameOrig|oldbalanceOrg|newbalanceOrig|   nameDest|oldbalanceDest|newbalanceDest|isFraud|isFlaggedFraud|\n",
      "+----+--------+--------+-----------+-------------+--------------+-----------+--------------+--------------+-------+--------------+\n",
      "|   1| PAYMENT| 9839.64|C1231006815|     170136.0|     160296.36|M1979787155|           0.0|           0.0|      0|             0|\n",
      "|   1| PAYMENT| 1864.28|C1666544295|      21249.0|      19384.72|M2044282225|           0.0|           0.0|      0|             0|\n",
      "|   1|TRANSFER|   181.0|C1305486145|        181.0|           0.0| C553264065|           0.0|           0.0|      1|             0|\n",
      "|   1|CASH_OUT|   181.0| C840083671|        181.0|           0.0|  C38997010|       21182.0|           0.0|      1|             0|\n",
      "|   1| PAYMENT|11668.14|C2048537720|      41554.0|      29885.86|M1230701703|           0.0|           0.0|      0|             0|\n",
      "+----+--------+--------+-----------+-------------+--------------+-----------+--------------+--------------+-------+--------------+\n",
      "only showing top 5 rows\n",
      "\n"
     ]
    }
   ],
   "source": [
    "df.show(5)"
   ]
  },
  {
   "cell_type": "code",
   "execution_count": 10,
   "metadata": {},
   "outputs": [
    {
     "name": "stdout",
     "output_type": "stream",
     "text": [
      "+--------+---------+------------------+\n",
      "|    type|somatoria|        percentage|\n",
      "+--------+---------+------------------+\n",
      "|TRANSFER|   532909| 8.375621992198184|\n",
      "| CASH_IN|  1399284|21.992261049693365|\n",
      "|CASH_OUT|  2237500| 35.16633085112736|\n",
      "| PAYMENT|  2151495| 33.81460781879163|\n",
      "|   DEBIT|    41432|0.6511782881894566|\n",
      "+--------+---------+------------------+\n",
      "\n"
     ]
    }
   ],
   "source": [
    "df1 = df.groupBy('type').count().withColumnRenamed('count','somatoria')\n",
    "df1.withColumn('percentage', 100*(f.col('somatoria') / df1.select(f.sum('somatoria')).collect()[0][0])).show()"
   ]
  },
  {
   "cell_type": "code",
   "execution_count": 11,
   "metadata": {},
   "outputs": [
    {
     "name": "stdout",
     "output_type": "stream",
     "text": [
      "+-------+---------+-------------------+\n",
      "|isFraud|somatoria|         percentage|\n",
      "+-------+---------+-------------------+\n",
      "|      1|     8213|0.12908204481801522|\n",
      "|      0|  6354407|  99.87091795518198|\n",
      "+-------+---------+-------------------+\n",
      "\n"
     ]
    }
   ],
   "source": [
    "df1 = df.groupBy('isFraud').count().withColumnRenamed('count','somatoria')\n",
    "# df1.show()\n",
    "df1.withColumn('percentage',100*(f.col('somatoria') / df1.select(f.sum('somatoria')).collect()[0][0])).show()"
   ]
  },
  {
   "cell_type": "code",
   "execution_count": 21,
   "metadata": {},
   "outputs": [
    {
     "data": {
      "text/plain": [
       "1.0"
      ]
     },
     "execution_count": 21,
     "metadata": {},
     "output_type": "execute_result"
    }
   ],
   "source": [
    "df.select('amount',(f.round(f.log(f.col('amount') ),3).alias('log_amount'))).corr('amount','amount')"
   ]
  },
  {
   "cell_type": "code",
   "execution_count": 22,
   "metadata": {},
   "outputs": [
    {
     "data": {
      "text/plain": [
       "424363.5357953158"
      ]
     },
     "execution_count": 22,
     "metadata": {},
     "output_type": "execute_result"
    }
   ],
   "source": [
    "df.select('amount',f.round(f.log(f.col('amount')),3).alias('log_amount')).cov('amount','log_amount')"
   ]
  },
  {
   "cell_type": "code",
   "execution_count": 27,
   "metadata": {},
   "outputs": [
    {
     "name": "stdout",
     "output_type": "stream",
     "text": [
      "+----+-------+---------+-----------+-------------+--------------+-----------+--------------+--------------+-------+--------------+\n",
      "|step|   type|   amount|   nameOrig|oldbalanceOrg|newbalanceOrig|   nameDest|oldbalanceDest|newbalanceDest|isFraud|isFlaggedFraud|\n",
      "+----+-------+---------+-----------+-------------+--------------+-----------+--------------+--------------+-------+--------------+\n",
      "| 395|CASH_IN| 32363.46|C1951289658|      19213.0|      51576.46| C823288423|     154596.75|     122233.29|      0|             0|\n",
      "| 202|CASH_IN|273937.49|C1004815319|   1987422.41|     2261359.9| C453399078|     608723.54|     334786.04|      0|             0|\n",
      "|  40|CASH_IN|330186.02|C1446132520|     198459.0|     528645.02| C794873386|     6726601.4|    6396415.38|      0|             0|\n",
      "| 202|CASH_IN|207540.39|C1757042042|   5267463.18|    5475003.57| C436595683|    2165620.42|    1958080.03|      0|             0|\n",
      "| 156|CASH_IN| 27287.59|C1634109320|   8673566.52|    8700854.11|C1542157370|     558897.81|     531610.22|      0|             0|\n",
      "| 202|CASH_IN| 13428.21|C1771901433|    2261359.9|    2274788.11| C528694616|    2110946.17|    2097517.95|      0|             0|\n",
      "|  40|CASH_IN|153533.02| C634181588|   1906493.69|    2060026.71|C1210337654|    2192807.16|    2039274.13|      0|             0|\n",
      "| 202|CASH_IN|181163.73| C853763600|   3216097.77|     3397261.5|C1893078183|     245557.33|       64393.6|      0|             0|\n",
      "|   1|CASH_IN|114271.72|C2072130509|   3758738.27|    3873009.99| C985934102|     3170705.3|     971418.91|      0|             0|\n",
      "| 202|CASH_IN| 22530.63| C868823506|   2274788.11|    2297318.74|C1091095835|    1580358.21|    1557827.58|      0|             0|\n",
      "|  40|CASH_IN| 92476.85| C360234666|     101775.0|     194251.85| C583260949|      21994.55|           0.0|      0|             0|\n",
      "| 202|CASH_IN|327306.28|C1574062308|   3492085.25|    3819391.53|C2005939725|     3339115.7|    3011809.41|      0|             0|\n",
      "| 156|CASH_IN|165163.88|C1684617623|   8700854.11|    8866017.99|C1163394047|     272799.53|     107635.65|      0|             0|\n",
      "| 202|CASH_IN|157464.21| C993264005|   2297318.74|    2454782.95|C1645309090|    1544185.03|    1386720.82|      0|             0|\n",
      "|  40|CASH_IN|358200.07| C859925991|      21377.0|     379577.07|C2029456274|           0.0|           0.0|      0|             0|\n",
      "| 202|CASH_IN|221940.01| C509938346|   3915831.27|    4137771.29|C1226076600|    2701206.25|    2479266.24|      0|             0|\n",
      "| 346|CASH_IN|  6584.95|C1200203912|     853410.0|     859994.95|C1721439397|     2249424.4|    2242839.45|      0|             0|\n",
      "| 202|CASH_IN|172914.02| C576133071|   2454782.95|    2627696.97|C1556271777|    1935102.92|     1762188.9|      0|             0|\n",
      "|  40|CASH_IN|571089.28| C467318012|       1551.0|     572640.28| C278800351|    3918663.17|    3347573.89|      0|             0|\n",
      "| 202|CASH_IN|119903.79| C790261041|   4232830.44|    4352734.23| C727454482|     239569.97|     119666.18|      0|             0|\n",
      "+----+-------+---------+-----------+-------------+--------------+-----------+--------------+--------------+-------+--------------+\n",
      "only showing top 20 rows\n",
      "\n"
     ]
    }
   ],
   "source": [
    "df.orderBy(f.asc('type'),f.desc('isFraud')).show()"
   ]
  },
  {
   "cell_type": "code",
   "execution_count": 36,
   "metadata": {},
   "outputs": [
    {
     "name": "stdout",
     "output_type": "stream",
     "text": [
      "+--------+-------+\n",
      "|    type|isFraud|\n",
      "+--------+-------+\n",
      "|TRANSFER|      1|\n",
      "|CASH_OUT|      1|\n",
      "|TRANSFER|      1|\n",
      "|CASH_OUT|      1|\n",
      "|TRANSFER|      1|\n",
      "|CASH_OUT|      1|\n",
      "|CASH_OUT|      1|\n",
      "|TRANSFER|      1|\n",
      "|CASH_OUT|      1|\n",
      "|TRANSFER|      1|\n",
      "|CASH_OUT|      1|\n",
      "|TRANSFER|      1|\n",
      "|CASH_OUT|      1|\n",
      "|CASH_OUT|      1|\n",
      "|TRANSFER|      1|\n",
      "|CASH_OUT|      1|\n",
      "|TRANSFER|      1|\n",
      "|CASH_OUT|      1|\n",
      "|TRANSFER|      1|\n",
      "|CASH_OUT|      1|\n",
      "+--------+-------+\n",
      "only showing top 20 rows\n",
      "\n"
     ]
    }
   ],
   "source": [
    "df.select('type','isFraud').where('isFraud = 1').show()"
   ]
  },
  {
   "cell_type": "code",
   "execution_count": 37,
   "metadata": {},
   "outputs": [
    {
     "name": "stdout",
     "output_type": "stream",
     "text": [
      "+--------+-------+\n",
      "|    type|isFraud|\n",
      "+--------+-------+\n",
      "| PAYMENT|      0|\n",
      "| PAYMENT|      0|\n",
      "| PAYMENT|      0|\n",
      "| PAYMENT|      0|\n",
      "| PAYMENT|      0|\n",
      "| PAYMENT|      0|\n",
      "| PAYMENT|      0|\n",
      "|   DEBIT|      0|\n",
      "|   DEBIT|      0|\n",
      "| PAYMENT|      0|\n",
      "| PAYMENT|      0|\n",
      "| PAYMENT|      0|\n",
      "| PAYMENT|      0|\n",
      "|CASH_OUT|      0|\n",
      "| PAYMENT|      0|\n",
      "| PAYMENT|      0|\n",
      "| PAYMENT|      0|\n",
      "|TRANSFER|      0|\n",
      "| PAYMENT|      0|\n",
      "|   DEBIT|      0|\n",
      "+--------+-------+\n",
      "only showing top 20 rows\n",
      "\n"
     ]
    }
   ],
   "source": [
    "df.select('type','isFraud').where(f.col('isFraud') == 0).show()"
   ]
  },
  {
   "cell_type": "code",
   "execution_count": 41,
   "metadata": {},
   "outputs": [
    {
     "name": "stdout",
     "output_type": "stream",
     "text": [
      "+--------+-----+\n",
      "|    type|teste|\n",
      "+--------+-----+\n",
      "| PAYMENT|   OK|\n",
      "| PAYMENT|   OK|\n",
      "|TRANSFER|  NOK|\n",
      "|CASH_OUT|  NOK|\n",
      "| PAYMENT|   OK|\n",
      "| PAYMENT|   OK|\n",
      "| PAYMENT|   OK|\n",
      "| PAYMENT|   OK|\n",
      "| PAYMENT|   OK|\n",
      "|   DEBIT|  NOK|\n",
      "|   DEBIT|  NOK|\n",
      "| PAYMENT|   OK|\n",
      "| PAYMENT|   OK|\n",
      "| PAYMENT|   OK|\n",
      "| PAYMENT|   OK|\n",
      "|CASH_OUT|  NOK|\n",
      "| PAYMENT|   OK|\n",
      "| PAYMENT|   OK|\n",
      "| PAYMENT|   OK|\n",
      "|TRANSFER|  NOK|\n",
      "+--------+-----+\n",
      "only showing top 20 rows\n",
      "\n"
     ]
    }
   ],
   "source": [
    "df.select('type',f.when(f.col('type') == 'PAYMENT','OK').otherwise('NOK').alias('teste')).show()"
   ]
  },
  {
   "cell_type": "code",
   "execution_count": null,
   "metadata": {},
   "outputs": [],
   "source": []
  }
 ],
 "metadata": {
  "kernelspec": {
   "display_name": "base",
   "language": "python",
   "name": "python3"
  },
  "language_info": {
   "codemirror_mode": {
    "name": "ipython",
    "version": 3
   },
   "file_extension": ".py",
   "mimetype": "text/x-python",
   "name": "python",
   "nbconvert_exporter": "python",
   "pygments_lexer": "ipython3",
   "version": "3.8.13"
  },
  "orig_nbformat": 4
 },
 "nbformat": 4,
 "nbformat_minor": 2
}
